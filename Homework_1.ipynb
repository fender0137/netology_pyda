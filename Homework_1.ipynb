{
 "cells": [
  {
   "cell_type": "markdown",
   "metadata": {},
   "source": [
    "Основное задание"
   ]
  },
  {
   "cell_type": "code",
   "execution_count": 91,
   "metadata": {
    "scrolled": true
   },
   "outputs": [
    {
     "data": {
      "text/plain": [
       "True"
      ]
     },
     "execution_count": 91,
     "metadata": {},
     "output_type": "execute_result"
    }
   ],
   "source": [
    "# Задание 1\n",
    "\n",
    "long_phrase = 'Насколько проще было бы писать программы, если бы не заказчики'\n",
    "short_phrase = '640Кб должно хватить для любых задач. Билл Гейтс (по легенде)'\n",
    "\n",
    "\n",
    "len(long_phrase)>len(short_phrase)"
   ]
  },
  {
   "cell_type": "code",
   "execution_count": 92,
   "metadata": {
    "scrolled": true
   },
   "outputs": [
    {
     "name": "stdout",
     "output_type": "stream",
     "text": [
      "Сколько байт: 156148646846\n",
      "Объем файла равен 156148.65Mb\n"
     ]
    }
   ],
   "source": [
    "# Задание 2\n",
    "\n",
    "byte = int(input(\"Сколько байт: \"))\n",
    "\n",
    "\n",
    "print(\"Объем файла равен \"+str(round(byte/1000000,2))+\"Mb\")"
   ]
  },
  {
   "cell_type": "code",
   "execution_count": 93,
   "metadata": {},
   "outputs": [
    {
     "name": "stdout",
     "output_type": "stream",
     "text": [
      "Введите месяц рождения: июнь\n",
      "Введите день рождения: 17\n",
      "Близнецы\n"
     ]
    }
   ],
   "source": [
    "# Задание 3\n",
    "\n",
    "month = input(\"Введите месяц рождения: \")\n",
    "day = int(input(\"Введите день рождения: \"))\n",
    "\n",
    "\n",
    "\n",
    "\n",
    "if (month == 'март' and day >= 21) or (month == 'апрель' and day <=20):\n",
    "    print(\"Овен\")\n",
    "elif (month == 'апрель' and day >= 21) or (month == 'май' and day <=20):\n",
    "    print(\"Телец\") \n",
    "elif (month == 'май' and day >= 21) or (month == 'июнь' and day <=21):\n",
    "    print(\"Близнецы\")\n",
    "elif (month == 'июнь' and day >= 22) or (month == 'июль' and day <=22):\n",
    "    print(\"Рак\") \n",
    "elif (month == 'июль' and day >= 23) or (month == 'август' and day <=23):\n",
    "    print(\"Лев\")\n",
    "elif (month == 'август' and day >= 24) or (month == 'сентябрь' and day <=23):\n",
    "    print(\"Дева\") \n",
    "elif (month == 'сентябрь' and day >= 24) or (month == 'октябрь' and day <=23):\n",
    "    print(\"Весы\")\n",
    "elif (month == 'октябрь' and day >= 24) or (month == 'ноябрь' and day <=22):\n",
    "    print(\"Скорпион\")\n",
    "elif (month == 'ноябрь' and day >= 23) or (month == 'декабрь' and day <=21):\n",
    "    print(\"Стрелец\")\n",
    "elif (month == 'декабрь' and day >= 22) or (month == 'январь' and day <=20):\n",
    "    print(\"Козерог\")\n",
    "elif (month == 'декабрь' and day >= 21) or (month == 'февраль' and day <=20):\n",
    "    print(\"Водолей\")\n",
    "elif (month == 'февраль' and day >= 21) or (month == 'март' and day <=20):\n",
    "    print(\"Рыбы\")\n",
    "else:\n",
    "    print(\"Некорректно введенные данные\")"
   ]
  },
  {
   "cell_type": "code",
   "execution_count": 4,
   "metadata": {},
   "outputs": [
    {
     "name": "stdout",
     "output_type": "stream",
     "text": [
      "Введите заработную плату в месяц: 100000\n",
      "Введите сколько процентов уходит на ипотеку: 30\n",
      "Введите сколько процентов уходит на жизнь: 50\n",
      "Введите количество премий за год: 2\n",
      "На ипотеку было потрачено: 360000 рублей\n",
      "Было накоплено: 340000 рублей\n"
     ]
    }
   ],
   "source": [
    "# Задание 4\n",
    "\n",
    "zp_month = int(input(\"Введите заработную плату в месяц: \"))\n",
    "percent_ipoteka = int(input(\"Введите сколько процентов уходит на ипотеку: \"))\n",
    "percent_to_live = int(input(\"Введите сколько процентов уходит на жизнь: \"))\n",
    "count_premia = int(input(\"Введите количество премий за год: \"))\n",
    "\n",
    "# Расчитываем остаток премии за год\n",
    "premia = (count_premia*zp_month)/2\n",
    "\n",
    "# Сколько стратит на ипотеку\n",
    "print(\"На ипотеку было потрачено: \" + str(int((zp_month - (zp_month -(zp_month/100*percent_ipoteka)))*12)) + \" рублей\")\n",
    "# Сколько накоплено\n",
    "print(\"Было накоплено: \" + str(int((zp_month -(zp_month/100*(percent_ipoteka+percent_to_live)))*12+premia)) + \" рублей\")\n"
   ]
  },
  {
   "cell_type": "markdown",
   "metadata": {},
   "source": [
    "Дополнительное задание"
   ]
  },
  {
   "cell_type": "code",
   "execution_count": 7,
   "metadata": {},
   "outputs": [
    {
     "name": "stdout",
     "output_type": "stream",
     "text": [
      "Count steps: 15\n",
      "1\n",
      "2\n",
      "fizz\n",
      "4\n",
      "Buzz\n",
      "fizz\n",
      "7\n",
      "8\n",
      "fizz\n",
      "Buzz\n",
      "11\n",
      "fizz\n",
      "13\n",
      "14\n",
      "fizz buzz\n"
     ]
    }
   ],
   "source": [
    "#Задание 1\n",
    "\n",
    "steps = int(input(\"Count steps: \"))\n",
    "\n",
    "for number in range(1, steps+1):\n",
    "    if number % 3 ==0 and number % 5 ==0:\n",
    "        print('fizz buzz')\n",
    "    elif number % 3 == 0:\n",
    "        print('fizz')\n",
    "    elif number % 5 == 0:\n",
    "        print('Buzz')\n",
    "   \n",
    "    else:\n",
    "        print(number)"
   ]
  },
  {
   "cell_type": "code",
   "execution_count": 98,
   "metadata": {},
   "outputs": [
    {
     "name": "stdout",
     "output_type": "stream",
     "text": [
      "Input word: testing\n",
      "t\n"
     ]
    }
   ],
   "source": [
    "# Задание 3\n",
    "\n",
    "word = str(input(\"Input word: \"))\n",
    "\n",
    "\n",
    "if len(word) % 2 != 0:\n",
    "    \n",
    "    print(word[int(len(word)/2)])\n",
    "else:\n",
    "    print(word[int(len(word)/2)-1]+word[int(len(word)/2)])"
   ]
  },
  {
   "cell_type": "code",
   "execution_count": 101,
   "metadata": {},
   "outputs": [],
   "source": [
    "# Задание 2\n",
    "\n",
    "# Не получилось :(\n",
    "\n",
    "\n",
    "\n",
    "\n"
   ]
  }
 ],
 "metadata": {
  "kernelspec": {
   "display_name": "Python 3",
   "language": "python",
   "name": "python3"
  },
  "language_info": {
   "codemirror_mode": {
    "name": "ipython",
    "version": 3
   },
   "file_extension": ".py",
   "mimetype": "text/x-python",
   "name": "python",
   "nbconvert_exporter": "python",
   "pygments_lexer": "ipython3",
   "version": "3.7.1"
  }
 },
 "nbformat": 4,
 "nbformat_minor": 2
}
