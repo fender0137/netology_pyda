{
 "cells": [
  {
   "cell_type": "markdown",
   "metadata": {},
   "source": [
    "# Домашнее задание\n",
    "1. Переведите содержимое файла purchase_log.txt в словарь purchases вида:\n",
    "```python\n",
    "{'1840e0b9d4': 'Продукты', ...}\n",
    "```\n",
    "\n",
    "2. Для каждого user_id в файле visit_log.csv добавьте третий столбец с категорией покупки (если покупка была).\n",
    "\n",
    "3. Запишите в файл funnel.csv визиты из файла visit_log.csv, в которых были покупки с указанием категории.\n",
    "\n",
    "Учтите условия на данные:\n",
    "- содержимое purchase_log.txt помещается в оперативную память компьютера\n",
    "- содержимое visit_log.csv - нет; используйте только построчную обработку этого файла"
   ]
  },
  {
   "cell_type": "code",
   "execution_count": 1,
   "metadata": {},
   "outputs": [],
   "source": [
    "# Задание 1\n",
    "# Создаем пустой словарь\n",
    "purchases = {}\n",
    "# Открываем файл с кодировкой utf-8\n",
    "with open(\"purchase_log.txt\",encoding=\"utf-8\") as file:\n",
    "    for line in file:\n",
    "# Чистим строки от лишних сиволов\n",
    "        spl = line.strip().strip('{}').split(\",\")\n",
    "        key = spl[0].split(\":\")[1].strip().strip('\"\"')\n",
    "        value = spl[1].split(\":\")[1].strip().strip('\"')\n",
    "# Записываем в словарь как ключ и значение\n",
    "        purchases[key] = value\n"
   ]
  },
  {
   "cell_type": "code",
   "execution_count": 2,
   "metadata": {},
   "outputs": [],
   "source": [
    "# Задание 2\n",
    "# Создаем файл для записи в режиме записи\n",
    "f = open('visit_log_with_category.csv', 'w')\n",
    "\n",
    "# Открываем файл в режиме чтения\n",
    "with open(\"visit_log.csv\") as file:\n",
    "# Делаем цикл, чтобы считывать данные построчно\n",
    "    for line in file.readlines():\n",
    "# Разделяем данные строки и чистим от переноса строки\n",
    "        userid_log = line.split(\",\")[0]\n",
    "        source_log = line.split(\",\")[1].rstrip('\\n')\n",
    "# Условие, если верно, то происходит запись с категорией, если нет, то запись без категории\n",
    "        try:\n",
    "            if purchases[userid_log]:\n",
    "                f.write(userid_log   + ',' + source_log + ',' + purchases[userid_log] + '\\n')\n",
    "        except:                \n",
    "            f.write(userid_log + ',' + source_log.strip() + '\\n')\n",
    "f.close()"
   ]
  },
  {
   "cell_type": "code",
   "execution_count": 3,
   "metadata": {},
   "outputs": [],
   "source": [
    "# Задание 3\n",
    "# Создаем файл для записи в режиме записи\n",
    "f = open('funnel.csv', 'w')\n",
    "\n",
    "# Открываем файл в режиме чтения\n",
    "with open(\"visit_log.csv\") as file:\n",
    "# Делаем цикл, чтобы считывать данные построчно\n",
    "    for line in file.readlines():\n",
    "# Разделяем данные строки и чистим от переноса строки\n",
    "        userid_log = line.split(\",\")[0]\n",
    "        source_log = line.split(\",\")[1].rstrip('\\n')\n",
    "# Условие, если верно, то происходит запись с категорией, если нет, то продолжает дальнейший цикл\n",
    "        try:\n",
    "            if purchases[userid_log]:\n",
    "                f.write(userid_log  + ',' + source_log + ',' + purchases[userid_log]+ '\\n')\n",
    "        except:                \n",
    "            continue\n",
    "f.close()"
   ]
  }
 ],
 "metadata": {
  "kernelspec": {
   "display_name": "Python 3",
   "language": "python",
   "name": "python3"
  },
  "language_info": {
   "codemirror_mode": {
    "name": "ipython",
    "version": 3
   },
   "file_extension": ".py",
   "mimetype": "text/x-python",
   "name": "python",
   "nbconvert_exporter": "python",
   "pygments_lexer": "ipython3",
   "version": "3.7.1"
  }
 },
 "nbformat": 4,
 "nbformat_minor": 2
}
