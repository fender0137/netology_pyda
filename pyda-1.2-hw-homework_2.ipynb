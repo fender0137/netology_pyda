{
 "cells": [
  {
   "cell_type": "markdown",
   "metadata": {},
   "source": [
    "**Задание 1**\n",
    "\n",
    "Дан список с визитами по городам и странам. Напишите код, который возвращает отфильтрованный список geo_logs, содержащий только визиты из России. Считайте, что список geo_logs легко помещается в оперативной памяти.\n",
    "geo_logs = [\n",
    "[‘visit1’, [‘Москва’, ‘Россия’]],\n",
    "[‘visit2’, [‘Дели’, ‘Индия’]],\n",
    "[‘visit3’, [‘Владимир’, ‘Россия’]],\n",
    "[‘visit4’, [‘Лиссабон’, ‘Португалия’]],\n",
    "[‘visit5’, [‘Париж’, ‘Франция’]],\n",
    "[‘visit6’, [‘Лиссабон’, ‘Португалия’]],\n",
    "[‘visit7’, [‘Тула’, ‘Россия’]],\n",
    "[‘visit8’, [‘Тула’, ‘Россия’]],\n",
    "[‘visit9’, [‘Курск’, ‘Россия’]],\n",
    "[‘visit10’, [‘Архангельск’, ‘Россия’]],\n",
    "]"
   ]
  },
  {
   "cell_type": "code",
   "execution_count": 221,
   "metadata": {},
   "outputs": [
    {
     "data": {
      "text/plain": [
       "[['visit1', ['Москва', 'Россия']],\n",
       " ['visit3', ['Владимир', 'Россия']],\n",
       " ['visit7', ['Тула', 'Россия']],\n",
       " ['visit8', ['Тула', 'Россия']],\n",
       " ['visit9', ['Курск', 'Россия']],\n",
       " ['visit10', ['Архангельск', 'Россия']]]"
      ]
     },
     "execution_count": 221,
     "metadata": {},
     "output_type": "execute_result"
    }
   ],
   "source": [
    "geo_logs = [\n",
    "['visit1', ['Москва', 'Россия']],\n",
    "['visit2', ['Дели', 'Индия']],\n",
    "['visit3', ['Владимир', 'Россия']],\n",
    "['visit4', ['Лиссабон', 'Португалия']],\n",
    "['visit5', ['Париж', 'Франция']],\n",
    "['visit6', ['Лиссабон', 'Португалия']],\n",
    "['visit7', ['Тула', 'Россия']],\n",
    "['visit8', ['Тула', 'Россия']],\n",
    "['visit9', ['Курск', 'Россия']],\n",
    "['visit10', ['Архангельск', 'Россия']],\n",
    "]\n",
    "\n",
    "find_country = 'Россия'\n",
    "\n",
    "\n",
    "for x in geo_logs:\n",
    "    for elem in geo_logs:\n",
    "        try_elem = elem[1][1]\n",
    "        i = (geo_logs.index(elem))\n",
    "        if try_elem not in find_country:\n",
    "            del(geo_logs[i])\n",
    "\n",
    "            \n",
    "geo_logs                \n"
   ]
  },
  {
   "cell_type": "markdown",
   "metadata": {},
   "source": [
    "**Задание 2**\n",
    "\n",
    "Выведите на экран все уникальные гео-ID из списка координат ids. Т. е. список вида [213, 15, 54, 119, 98, 35]\n",
    "ids = [[‘user1’, [213, 213, 213, 15, 213]], [‘user2’, [54, 54, 119, 119, 119]], [‘user3’, [213, 98, 98, 35]]]"
   ]
  },
  {
   "cell_type": "code",
   "execution_count": 100,
   "metadata": {},
   "outputs": [
    {
     "name": "stdout",
     "output_type": "stream",
     "text": [
      "[213, 213, 213, 15, 213, 54, 54, 119, 119, 119, 213, 98, 98, 35]\n",
      "[213, 15, 54, 119, 98, 35]\n"
     ]
    }
   ],
   "source": [
    "ids = [['user1', [213, 213, 213, 15, 213]], ['user2', [54, 54, 119, 119, 119]], ['user3', [213, 98, 98, 35]]]\n",
    "\n",
    "# Оставляем только значения из вложенных списков\n",
    "line=[]\n",
    "\n",
    "for elem in ids:\n",
    "    for x  in elem[1]:\n",
    "        line.append(x)\n",
    "        \n",
    "print(line)\n",
    "        \n",
    "# Добавляем в список только уникальные значения\n",
    "uniqIds=[]\n",
    "        \n",
    "for elem in line:\n",
    "    if elem not in uniqIds:\n",
    "        uniqIds.append(elem)\n",
    "        \n",
    "print(uniqIds)"
   ]
  },
  {
   "cell_type": "markdown",
   "metadata": {},
   "source": [
    "**Задание 3**\n",
    "\n",
    "Список поисковых запросов. Получить распределение количества слов в них. Т. е. поисковых запросов из одного слова 5%, из двух - 7%, из трех - 3% итд.\n",
    "queries = [\n",
    "‘смотреть сериалы онлайн’,\n",
    "‘новости спорта’,\n",
    "‘афиша кино’,\n",
    "‘курс доллара’,\n",
    "‘сериалы этим летом’,\n",
    "‘курс по питону’,\n",
    "‘сериалы про спорт’,\n",
    "]"
   ]
  },
  {
   "cell_type": "code",
   "execution_count": 98,
   "metadata": {},
   "outputs": [
    {
     "name": "stdout",
     "output_type": "stream",
     "text": [
      "2 words 33.33%\n",
      "3 words 44.44%\n",
      "4 words 11.11%\n",
      "16 words 11.11%\n"
     ]
    }
   ],
   "source": [
    "queries = [\n",
    "'смотреть сериалы онлайн',\n",
    "'новости спорта',\n",
    "'афиша кино',\n",
    "'курс доллара',\n",
    "'сериалы этим летом',\n",
    "'курс по питону',\n",
    "'сериалы про спорт',\n",
    "'сериалы про спорт мяу',\n",
    "'сериалы про спорт мяу sffds fsd fd sfzd sf sadg dsg fdgfdgh а впва п выпв'\n",
    "]\n",
    "\n",
    "count_words = []\n",
    "\n",
    "for x in queries:\n",
    "    count_words.append(len(x.split()))\n",
    "\n",
    "end_step = max(count_words)\n",
    "step=0\n",
    "\n",
    "while step<=end_step:\n",
    "    step=step+1\n",
    "    answer = count_words.count(step)/len(count_words)*100\n",
    "    if answer != 0:\n",
    "        print(str(step) + f' words {answer:.2f}%')\n"
   ]
  }
 ],
 "metadata": {
  "kernelspec": {
   "display_name": "Python 3",
   "language": "python",
   "name": "python3"
  },
  "language_info": {
   "codemirror_mode": {
    "name": "ipython",
    "version": 3
   },
   "file_extension": ".py",
   "mimetype": "text/x-python",
   "name": "python",
   "nbconvert_exporter": "python",
   "pygments_lexer": "ipython3",
   "version": "3.7.1"
  }
 },
 "nbformat": 4,
 "nbformat_minor": 2
}
