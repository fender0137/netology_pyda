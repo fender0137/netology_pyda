{
 "cells": [
  {
   "cell_type": "markdown",
   "metadata": {},
   "source": [
    "# Домашнее задание к лекции \"Регулярные выражения\"\n",
    "Для зачета необходимо выполнить 4 задания.  \n",
    "Для зачета с отличием – все."
   ]
  },
  {
   "cell_type": "markdown",
   "metadata": {},
   "source": [
    "## Задание 1"
   ]
  },
  {
   "cell_type": "markdown",
   "metadata": {},
   "source": [
    "Напишите функцию, которая принимает на вход строку и проверяет является ли она валидным транспортным номером. Если да, то функция должна возвращать отдельно номер и регион."
   ]
  },
  {
   "cell_type": "code",
   "execution_count": 3,
   "metadata": {},
   "outputs": [],
   "source": [
    "import re"
   ]
  },
  {
   "cell_type": "code",
   "execution_count": 14,
   "metadata": {},
   "outputs": [
    {
     "name": "stdout",
     "output_type": "stream",
     "text": [
      "Введите номер автомобиля: А123ЕВ890\n",
      "Number valid\n"
     ]
    }
   ],
   "source": [
    "num_auto = input(\"Введите номер автомобиля: \")\n",
    "def auto_number_valid(): \n",
    "    valid = re.match(r'[АВЕКМНОРСТУХ]{1}\\d{3}[АВЕКМНОРСТУХ]{2}\\d{2,3}', num_auto)\n",
    "    if valid:\n",
    "        print(\"Number valid\")\n",
    "    else:\n",
    "        print(\"Number invalid\")\n",
    "auto_number_valid()"
   ]
  },
  {
   "cell_type": "markdown",
   "metadata": {},
   "source": [
    "## Задание 2"
   ]
  },
  {
   "cell_type": "markdown",
   "metadata": {},
   "source": [
    "Напишите функцию, которая проверяет e-mail адрес на валидность по стандарту RFC822: http://www.w3.org/Protocols/rfc822/. Для этого постарайтесь написать (в крайнем случае найти) самый полный шаблон для проверки e-mail адресов через регулярное выражение. Разберитесь и напишите примеры, какие ваш шаблон может не охватить."
   ]
  },
  {
   "cell_type": "code",
   "execution_count": 44,
   "metadata": {},
   "outputs": [
    {
     "name": "stdout",
     "output_type": "stream",
     "text": [
      "Введите email: .@re.ru\n",
      "Email valid\n"
     ]
    }
   ],
   "source": [
    "def email_valid():\n",
    "    pattern = re.compile('(^|\\s)[-a-z0-9_.]+@([-a-z0-9]+\\.)+[a-z]{2,6}(\\s|$)')\n",
    "    address = input('Введите email: ')\n",
    "    is_valid = pattern.match(address)\n",
    "    if is_valid:\n",
    "        print('Email valid')        \n",
    "    else:\n",
    "        print('Email invalid')\n",
    "\n",
    "\n",
    "email_valid()"
   ]
  },
  {
   "cell_type": "markdown",
   "metadata": {},
   "source": [
    "## Задание 3\n",
    "При помощи регулярных выражений напишите функцию, которая будет возвращать акроним переданного в нее текста."
   ]
  },
  {
   "cell_type": "code",
   "execution_count": 10,
   "metadata": {},
   "outputs": [
    {
     "name": "stdout",
     "output_type": "stream",
     "text": [
      "Введите текст: Time my First name\n"
     ]
    },
    {
     "data": {
      "text/plain": [
       "'TMFN'"
      ]
     },
     "execution_count": 10,
     "metadata": {},
     "output_type": "execute_result"
    }
   ],
   "source": [
    "text = input(\"Введите текст: \")\n",
    "\n",
    "def acronim():\n",
    "    result = []\n",
    "\n",
    "    for i in text.split():\n",
    "        found = re.findall(r'\\b(\\w)', i)\n",
    "        for n in found:\n",
    "            result.append(n.upper())\n",
    "\n",
    "    result = ''.join(result)\n",
    "    return result\n",
    "acronim()"
   ]
  },
  {
   "cell_type": "markdown",
   "metadata": {},
   "source": [
    "## Задание 4\n",
    "Напишите функцию, которая будет удалять все последовательные повторы слов из заданной строки."
   ]
  },
  {
   "cell_type": "code",
   "execution_count": 146,
   "metadata": {},
   "outputs": [
    {
     "name": "stdout",
     "output_type": "stream",
     "text": [
      "привет\n",
      "дела\n",
      " , как у тс тебя как   скажи\n"
     ]
    }
   ],
   "source": [
    "def repeating_word():\n",
    "    text = 'привет привет, как у приветтс тебя как дела дела скажи'\n",
    "    find_words = re.findall(r'([а-яА-Я]+)\\s+\\1', text)\n",
    "    for i in find_words:\n",
    "        print(i)\n",
    "        text = text.replace(i,\"\")\n",
    "    print(text)\n",
    "repeating_word()"
   ]
  },
  {
   "cell_type": "code",
   "execution_count": 156,
   "metadata": {},
   "outputs": [
    {
     "name": "stdout",
     "output_type": "stream",
     "text": [
      "привет\n",
      "привет,\n",
      "какпривет\n",
      "у\n",
      "тебя\n",
      "как\n",
      "дела\n",
      "дела\n",
      "скажи\n"
     ]
    }
   ],
   "source": [
    "def repeating_word():\n",
    "    text = 'привет привет, какпривет  у тебя как дела дела скажи'\n",
    "    find_words = re.findall(r'([а-яА-Я]+)\\s+\\1', text)\n",
    "    for i in text.split():\n",
    "        print(i)\n",
    "repeating_word()"
   ]
  },
  {
   "cell_type": "markdown",
   "metadata": {},
   "source": [
    "## Задание 5\n",
    "Напишите функцию, которая будет проверять номер сотового телефона на валидность, если он валиден, то переводить его в формат:   \n",
    "+7(xxx)-xxx-xx-xx  \n",
    "Постарайтесь предусмотреть как можно больше адекватных форматов изначального ввода номера.\n",
    "Примеры правильных и неправильных форматов:\n",
    "- +1 555 555-55-55;\n",
    "- 5555555555;\n",
    "- 555555555;\n",
    "- 8(555)555-55-55;\n",
    "- +7 555 555 55 55;\n",
    "- 7(555) 555-55-55;\n",
    "- +7 555+555+55+55."
   ]
  },
  {
   "cell_type": "code",
   "execution_count": 27,
   "metadata": {},
   "outputs": [
    {
     "name": "stdout",
     "output_type": "stream",
     "text": [
      "Ваш номер телефона: 89096941682\n",
      "<re.Match object; span=(0, 11), match='89096941682'>\n"
     ]
    }
   ],
   "source": [
    "phone_number = input(\"Ваш номер телефона: \")\n",
    "\n",
    "def phone_number_valid():\n",
    "    valid = re.match(r'^\\+?\\d{1}?[- .]?\\(?(?:\\d{2,3})\\)?[- .]?\\d\\d\\d[- .]?\\d\\d\\d\\d$', phone_number)\n",
    "    \n",
    "    if valid:\n",
    "        print(valid)\n",
    "#        print('+7' + '(' + valid2.group()[:3] + ')-')\n",
    "    else:\n",
    "        print(\"Введен не корректный номер\")\n",
    "    \n",
    "    \n",
    "phone_number_valid()\n"
   ]
  },
  {
   "cell_type": "code",
   "execution_count": null,
   "metadata": {},
   "outputs": [],
   "source": []
  }
 ],
 "metadata": {
  "kernelspec": {
   "display_name": "Python 3",
   "language": "python",
   "name": "python3"
  },
  "language_info": {
   "codemirror_mode": {
    "name": "ipython",
    "version": 3
   },
   "file_extension": ".py",
   "mimetype": "text/x-python",
   "name": "python",
   "nbconvert_exporter": "python",
   "pygments_lexer": "ipython3",
   "version": "3.7.1"
  }
 },
 "nbformat": 4,
 "nbformat_minor": 2
}
