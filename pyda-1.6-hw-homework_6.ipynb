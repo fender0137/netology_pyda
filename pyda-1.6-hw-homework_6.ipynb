{
 "cells": [
  {
   "cell_type": "markdown",
   "metadata": {},
   "source": [
    "# Домашнее задание к лекции \"Регулярные выражения\"\n",
    "Для зачета необходимо выполнить 4 задания.  \n",
    "Для зачета с отличием – все."
   ]
  },
  {
   "cell_type": "markdown",
   "metadata": {},
   "source": [
    "## Задание 1"
   ]
  },
  {
   "cell_type": "markdown",
   "metadata": {},
   "source": [
    "Напишите функцию, которая принимает на вход строку и проверяет является ли она валидным транспортным номером. Если да, то функция должна возвращать отдельно номер и регион."
   ]
  },
  {
   "cell_type": "code",
   "execution_count": 1,
   "metadata": {},
   "outputs": [],
   "source": [
    "import re"
   ]
  },
  {
   "cell_type": "code",
   "execution_count": 6,
   "metadata": {},
   "outputs": [
    {
     "name": "stdout",
     "output_type": "stream",
     "text": [
      "Введите номер автомобиля: А983ХС893\n",
      "Number valid\n"
     ]
    }
   ],
   "source": [
    "num_auto = input(\"Введите номер автомобиля: \")\n",
    "def auto_number_valid(): \n",
    "    valid = re.match(r'[АВЕКМНОРСТУХ]{1}\\d{3}[АВЕКМНОРСТУХ]{2}\\d{2,3}', num_auto)\n",
    "    if valid:\n",
    "        print(\"Number valid\")\n",
    "    else:\n",
    "        print(\"Number invalid\")\n",
    "auto_number_valid()"
   ]
  },
  {
   "cell_type": "markdown",
   "metadata": {},
   "source": [
    "## Задание 2"
   ]
  },
  {
   "cell_type": "markdown",
   "metadata": {},
   "source": [
    "Напишите функцию, которая проверяет e-mail адрес на валидность по стандарту RFC822: http://www.w3.org/Protocols/rfc822/. Для этого постарайтесь написать (в крайнем случае найти) самый полный шаблон для проверки e-mail адресов через регулярное выражение. Разберитесь и напишите примеры, какие ваш шаблон может не охватить."
   ]
  },
  {
   "cell_type": "code",
   "execution_count": 7,
   "metadata": {},
   "outputs": [
    {
     "name": "stdout",
     "output_type": "stream",
     "text": [
      "Введите email: fast_gi.ops@gemal.com\n",
      "Email valid\n"
     ]
    }
   ],
   "source": [
    "def email_valid():\n",
    "    pattern = re.compile('(^|\\s)[-a-z0-9_.]+@([-a-z0-9]+\\.)+[a-z]{2,6}(\\s|$)')\n",
    "    address = input('Введите email: ')\n",
    "    is_valid = pattern.match(address)\n",
    "    if is_valid:\n",
    "        print('Email valid')        \n",
    "    else:\n",
    "        print('Email invalid')\n",
    "\n",
    "\n",
    "email_valid()"
   ]
  },
  {
   "cell_type": "markdown",
   "metadata": {},
   "source": [
    "## Задание 3\n",
    "При помощи регулярных выражений напишите функцию, которая будет возвращать акроним переданного в нее текста."
   ]
  },
  {
   "cell_type": "code",
   "execution_count": 8,
   "metadata": {},
   "outputs": [
    {
     "name": "stdout",
     "output_type": "stream",
     "text": [
      "Введите текст: Можно отдать Получить Принять и забыть\n"
     ]
    },
    {
     "data": {
      "text/plain": [
       "'МОППИЗ'"
      ]
     },
     "execution_count": 8,
     "metadata": {},
     "output_type": "execute_result"
    }
   ],
   "source": [
    "text = input(\"Введите текст: \")\n",
    "\n",
    "def acronim():\n",
    "    result = []\n",
    "\n",
    "    for i in text.split():\n",
    "        found = re.findall(r'\\b(\\w)', i)\n",
    "        for n in found:\n",
    "            result.append(n.upper())\n",
    "\n",
    "    result = ''.join(result)\n",
    "    return result\n",
    "acronim()"
   ]
  },
  {
   "cell_type": "markdown",
   "metadata": {},
   "source": [
    "## Задание 4\n",
    "Напишите функцию, которая будет удалять все последовательные повторы слов из заданной строки."
   ]
  },
  {
   "cell_type": "code",
   "execution_count": 2,
   "metadata": {},
   "outputs": [
    {
     "name": "stdout",
     "output_type": "stream",
     "text": [
      "привет мой  друг, ты тут не дорогой просто так\n"
     ]
    }
   ],
   "source": [
    "import re\n",
    "\n",
    "def repeating_word():\n",
    "    text = 'привет мой дорогой дорогой друг, ты тут не дорогой просто так'\n",
    "    for i in re.findall(r'([а-яА-Я]+)\\s+\\1', text):\n",
    "        text =  re.sub(r'([а-яА-Я]+)\\s+\\1','', text)\n",
    "    print(text)\n",
    "repeating_word()"
   ]
  },
  {
   "cell_type": "markdown",
   "metadata": {},
   "source": [
    "## Задание 5\n",
    "Напишите функцию, которая будет проверять номер сотового телефона на валидность, если он валиден, то переводить его в формат:   \n",
    "+7(xxx)-xxx-xx-xx  \n",
    "Постарайтесь предусмотреть как можно больше адекватных форматов изначального ввода номера.\n",
    "Примеры правильных и неправильных форматов:\n",
    "- +1 555 555-55-55;\n",
    "- 5555555555;\n",
    "- 555555555;\n",
    "- 8(555)555-55-55;\n",
    "- +7 555 555 55 55;\n",
    "- 7(555) 555-55-55;\n",
    "- +7 555+555+55+55."
   ]
  },
  {
   "cell_type": "code",
   "execution_count": 7,
   "metadata": {},
   "outputs": [
    {
     "name": "stdout",
     "output_type": "stream",
     "text": [
      "Ваш номер телефона: +79096941682\n",
      "+79096941682\n",
      "+77-909-694-1682\n"
     ]
    }
   ],
   "source": [
    "phone_number = input(\"Ваш номер телефона: \")\n",
    "\n",
    "def phone_number_valid():\n",
    "    valid = re.match(r'^((8|\\+7)[\\- ]?)?(\\(?\\d{3}\\)?[\\- ]?)?[\\d\\- ]{10}$', phone_number)\n",
    "    \n",
    "    if valid:\n",
    "        print(valid.group())\n",
    "        formatted_phone_number = re.sub(\"(\\d)(?=(\\d{3})+(?!\\d))\", r\"\\1-\", \"%d\" % int(phone_number[:-1])) + phone_number[-1]\n",
    "        print(\"+7\" + formatted_phone_number)\n",
    "    else:\n",
    "        print(\"Введен не корректный номер\")\n",
    "    \n",
    "    \n",
    "phone_number_valid()\n"
   ]
  },
  {
   "cell_type": "code",
   "execution_count": null,
   "metadata": {},
   "outputs": [],
   "source": []
  }
 ],
 "metadata": {
  "kernelspec": {
   "display_name": "Python 3",
   "language": "python",
   "name": "python3"
  },
  "language_info": {
   "codemirror_mode": {
    "name": "ipython",
    "version": 3
   },
   "file_extension": ".py",
   "mimetype": "text/x-python",
   "name": "python",
   "nbconvert_exporter": "python",
   "pygments_lexer": "ipython3",
   "version": "3.7.1"
  }
 },
 "nbformat": 4,
 "nbformat_minor": 2
}
