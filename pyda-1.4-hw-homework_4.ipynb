{
 "cells": [
  {
   "cell_type": "markdown",
   "metadata": {},
   "source": [
    "# Задание к лекции \"Функции\".\n",
    "Для зачета необходимо правильно выполнить 4 заданий из 6.  \n",
    "Для зачета с отличием – все 6."
   ]
  },
  {
   "cell_type": "markdown",
   "metadata": {},
   "source": [
    "## Задание 1"
   ]
  },
  {
   "cell_type": "markdown",
   "metadata": {},
   "source": [
    "Дан список вида:"
   ]
  },
  {
   "cell_type": "code",
   "execution_count": 2,
   "metadata": {},
   "outputs": [],
   "source": [
    "data = [\n",
    "    [13, 25, 23, 34],\n",
    "    [45, 32, 44, 47],\n",
    "    [12, 33, 23, 95],\n",
    "    [13, 53, 34, 35]\n",
    "]"
   ]
  },
  {
   "cell_type": "markdown",
   "metadata": {},
   "source": [
    "Напишите функцию, которая возвращает сумму элементов на диагонали. Т. е. 13+32+23+35.  \n",
    "\n",
    "Список может быть любой длины, но всегда является \"квадратным\" (количество элементов во вложенных списках равно их количеству)."
   ]
  },
  {
   "cell_type": "code",
   "execution_count": 3,
   "metadata": {},
   "outputs": [
    {
     "data": {
      "text/plain": [
       "103"
      ]
     },
     "execution_count": 3,
     "metadata": {},
     "output_type": "execute_result"
    }
   ],
   "source": [
    "def my_f():\n",
    "    my_list = []\n",
    "    number = 0\n",
    "# Прогоняем по циклу все элементы со сдвигом индекса на +1 в конце прохождения итерации цикла\n",
    "    for i in data:\n",
    "        my_list.append(i[number])\n",
    "        number = number+1\n",
    "# Возвращаем сумму листа\n",
    "    return sum(my_list)\n",
    "# Dspsdftv функцию\n",
    "my_f()"
   ]
  },
  {
   "cell_type": "markdown",
   "metadata": {},
   "source": [
    "## Задание 2"
   ]
  },
  {
   "cell_type": "markdown",
   "metadata": {},
   "source": [
    "Напишите функцию, возвращающую сумму первых n чисел Фибоначчи (для этого вам может понадобится ознакомиться с рекурсией)."
   ]
  },
  {
   "cell_type": "code",
   "execution_count": 191,
   "metadata": {},
   "outputs": [
    {
     "name": "stdout",
     "output_type": "stream",
     "text": [
      "Введите число: 10\n"
     ]
    },
    {
     "data": {
      "text/plain": [
       "[0, 1, 1, 2, 3, 5, 8, 13, 21, 34, 55]"
      ]
     },
     "execution_count": 191,
     "metadata": {},
     "output_type": "execute_result"
    }
   ],
   "source": [
    "n = int(input(\"Введите число: \"))\n",
    "def fibo(n):\n",
    "    my_list = [0, 1]\n",
    "    for i in range(2, n + 1):\n",
    "        my_list.append(my_list[i-1] + my_list[i-2])\n",
    "    return my_list\n",
    "\n",
    "\n",
    "fibo(n)"
   ]
  },
  {
   "cell_type": "markdown",
   "metadata": {},
   "source": [
    "## Задание 3"
   ]
  },
  {
   "cell_type": "code",
   "execution_count": 5,
   "metadata": {},
   "outputs": [],
   "source": [
    "cook_book = {\n",
    "  'салат': [\n",
    "     {'ingridient_name': 'сыр', 'quantity': 50, 'measure': 'гр'},\n",
    "     {'ingridient_name': 'томаты', 'quantity': 20, 'measure': 'гр'},\n",
    "     {'ingridient_name': 'огурцы', 'quantity': 20, 'measure': 'гр'},\n",
    "     {'ingridient_name': 'маслины', 'quantity': 10, 'measure': 'гр'},\n",
    "     {'ingridient_name': 'оливковое масло', 'quantity': 20, 'measure': 'мл'},\n",
    "     {'ingridient_name': 'салат', 'quantity': 10, 'measure': 'гр'},\n",
    "     {'ingridient_name': 'перец', 'quantity': 20, 'measure': 'гр'}\n",
    "    ],\n",
    "  'пицца': [\n",
    "     {'ingridient_name': 'сыр', 'quantity': 20, 'measure': 'гр'},\n",
    "     {'ingridient_name': 'колбаса', 'quantity': 30, 'measure': 'гр'},\n",
    "     {'ingridient_name': 'бекон', 'quantity': 30, 'measure': 'гр'},\n",
    "     {'ingridient_name': 'оливки', 'quantity': 10, 'measure': 'гр'},\n",
    "     {'ingridient_name': 'томаты', 'quantity': 20, 'measure': 'гр'},\n",
    "     {'ingridient_name': 'тесто', 'quantity': 100, 'measure': 'гр'},   \n",
    "    ],\n",
    "  'лимонад': [\n",
    "     {'ingridient_name': 'лимон', 'quantity': 1, 'measure': 'шт'},\n",
    "     {'ingridient_name': 'вода', 'quantity': 200, 'measure': 'мл'},\n",
    "     {'ingridient_name': 'сахар', 'quantity': 10, 'measure': 'гр'},\n",
    "     {'ingridient_name': 'лайм', 'quantity': 20, 'measure': 'гр'},    \n",
    "    ]\n",
    "}"
   ]
  },
  {
   "cell_type": "markdown",
   "metadata": {},
   "source": [
    "Напишите программу (она может состоять из нескольких функций), которая будет запрашивать у пользователя количество гостей и список блюд, которые будут подаваться каждому гостю. В результате программа должна выдавать список покупок, состоящий из ингредиентов, которые нужно купить в магазине (если ингредиенты повторяются, то их нужно записать одной строкой, а не отдельно).\n",
    "\n",
    "Пример:\n",
    "\n",
    "вызов\\_главной\\_функций()\n",
    "\n",
    "Введите количество гостей: 3  \n",
    "Введите блюда через пробел: пицца пицца лимонад\n",
    "\n",
    "Список покупок:  \n",
    "сыр 120 гр  \n",
    "колбаса 180 гр  \n",
    "бекон 180 гр  \n",
    "оливки 60 гр  \n",
    "томаты 120 гр  \n",
    "тесто 600 гр  \n",
    "лимон 3 шт  \n",
    "вода 600 мл  \n",
    "сахар 30 гр  \n",
    "лайм 60 гр  "
   ]
  },
  {
   "cell_type": "code",
   "execution_count": 6,
   "metadata": {},
   "outputs": [
    {
     "name": "stdout",
     "output_type": "stream",
     "text": [
      "Введите количество гостей: 3\n",
      "Введите люда через пробел: gwwg пицца \n",
      "['gwwg', 'пицца']\n"
     ]
    }
   ],
   "source": [
    "count_user = int(input(\"Введите количество гостей: \"))\n",
    "food = input(\"Введите люда через пробел: \")\n",
    "\n",
    "print(food.strip().split(' '))"
   ]
  },
  {
   "cell_type": "markdown",
   "metadata": {},
   "source": [
    "## Задание 4"
   ]
  },
  {
   "cell_type": "markdown",
   "metadata": {},
   "source": [
    "Вы работаете секретарем и вам постоянно приходят различные документы. Вы должны быть очень внимательны, чтобы не потерять ни один документ. Каталог документов хранится в следующем виде:"
   ]
  },
  {
   "cell_type": "code",
   "execution_count": 291,
   "metadata": {},
   "outputs": [],
   "source": [
    "documents = [\n",
    "    {'type': 'passport', 'number': '2207 876234', 'name': 'Василий Гупкин'},\n",
    "    {'type': 'invoice', 'number': '11-2', 'name': 'Геннадий Покемонов'},\n",
    "    {'type': 'insurance', 'number': '10006', 'name': 'Аристарх Павлов'}\n",
    "]"
   ]
  },
  {
   "cell_type": "markdown",
   "metadata": {},
   "source": [
    "Перечень полок, на которых находятся документы хранится в следующем виде:"
   ]
  },
  {
   "cell_type": "code",
   "execution_count": 292,
   "metadata": {},
   "outputs": [],
   "source": [
    "directories = {\n",
    "    '1': ['2207 876234', '11-2', '5455 028765'],\n",
    "    '2': ['10006', '5400 028765', '5455 002299'],\n",
    "    '3': []\n",
    "}"
   ]
  },
  {
   "cell_type": "markdown",
   "metadata": {},
   "source": [
    "Необходимо реализовать пользовательские команды (внимание! это не название функций, которые должны быть выразительными, а команды, которые вводит пользователь, чтобы получить необходимый результат):\n",
    "  \n",
    "- p – people – команда, которая спросит номер документа и выведет имя человека, которому он принадлежит;  \n",
    "- s – shelf – команда, которая спросит номер документа и выведет номер полки, на которой он находится  \n",
    "Правильно обработайте ситуацию, когда пользователь будет вводить несуществующий документ."
   ]
  },
  {
   "cell_type": "code",
   "execution_count": 36,
   "metadata": {},
   "outputs": [
    {
     "name": "stdout",
     "output_type": "stream",
     "text": [
      "Введите команду: p\n",
      "Введите номер документа: 11-2\n",
      "Имя: Геннадий Покемонов\n"
     ]
    }
   ],
   "source": [
    "command = input(\"Введите команду: \")\n",
    "\n",
    "\n",
    "    \n",
    "def p_funct():\n",
    "    name1 = input(\"Введите номер документа: \")\n",
    "# Данный вариант был у меня первым, из за проблемы с обработкой словаря в листе, работает правильно, но много лишних действий\n",
    "# Делаем из параметра number - ключ\n",
    "#    employer = {d.pop(\"number\"): d for d in map(dict, documents)}\n",
    "#    for search in employer.items():\n",
    "#        if search[0] == name1:\n",
    "#            print(\"Имя: \" + search[1]['name'])\n",
    "# Данный вариант пришел вторым(додумался до него когда делал задание 6), более простой и правильный я думаю:\n",
    "    for item in documents:\n",
    "        if item[\"number\"] == name1:\n",
    "            print(\"Имя: \" + item[\"name\"])\n",
    "\n",
    "def s_funct():\n",
    "    name1 = input(\"Введите номер документа: \")\n",
    "    for k, search in directories.items():\n",
    "        if name1 in search:\n",
    "            print(\"Полка \" + k)\n",
    "        \n",
    "if command == 'p':\n",
    "    p_funct()\n",
    "elif command == 's':\n",
    "    s_funct()\n",
    "else:\n",
    "    print(\"Команда не найдена, введите p или s.\")"
   ]
  },
  {
   "cell_type": "markdown",
   "metadata": {},
   "source": [
    "## Задание 5"
   ]
  },
  {
   "cell_type": "markdown",
   "metadata": {},
   "source": [
    "К условию из задания 5 реализуйте следующие команды:\n",
    "  \n",
    "- l – list – команда, которая выведет список всех документов в формате   \n",
    "**passport \"2207 876234\" \"Василий Гупкин\"**  \n",
    "- as – add shelf – команда, которая спросит номер новой полки и добавит ее в перечень"
   ]
  },
  {
   "cell_type": "code",
   "execution_count": 209,
   "metadata": {},
   "outputs": [
    {
     "name": "stdout",
     "output_type": "stream",
     "text": [
      "Введите команду: as\n",
      "Введите номер новой полки: 3\n",
      "Полка 3 добавлена\n",
      "{'1': ['2207 876234', '11-2', '5455 028765'], '2': ['10006', '5400 028765', '5455 002299'], '4': [], '3': []}\n"
     ]
    }
   ],
   "source": [
    "command = input(\"Введите команду: \")\n",
    "\n",
    "def l_funct():\n",
    "    for item in documents:\n",
    "        print(item[\"type\"] + \" \\\"\" + item[\"number\"] + \"\\\" \\\"\" + item[\"name\"]+\"\\\"\")\n",
    "        \n",
    "        \n",
    "def as_funct():\n",
    "    new_direction_key = input(\"Введите номер новой полки: \")\n",
    "    new_direction_value = []\n",
    "    if new_direction_key in directories.keys():\n",
    "        print(\"Полка уже существует\")\n",
    "        print(directories)\n",
    "    else:\n",
    "        directories[new_direction_key] = new_direction_value\n",
    "        print(\"Полка \" + new_direction_key + \" добавлена\")\n",
    "        print(directories)\n",
    "        \n",
    "        \n",
    "        \n",
    "        \n",
    "if command == 'l':\n",
    "    l_funct()\n",
    "elif command == 'as':\n",
    "    as_funct()\n",
    "else:\n",
    "    print(\"Команда не найдена, введите l или as.\")"
   ]
  },
  {
   "cell_type": "markdown",
   "metadata": {},
   "source": [
    "## Задание 6"
   ]
  },
  {
   "cell_type": "markdown",
   "metadata": {},
   "source": [
    "К условию из задания 5 реализуйте следующие команды:  \n",
    "  \n",
    "- d – delete – команда, которая спросит номер документа и удалит его из каталога и из перечня полок. Предусмотрите сценарий, когда пользователь вводит несуществующий документ;  \n",
    "- m – move – команда, которая спросит номер документа и целевую полку и переместит его с текущей полки на целевую. Корректно обработайте кейсы, когда пользователь пытается переместить несуществующий документ или переместить документ на несуществующую полку;  \n",
    "- a – add – команда, которая добавит новый документ в каталог и в перечень полок, спросив его номер, тип, имя владельца и номер полки, на котором он будет храниться."
   ]
  },
  {
   "cell_type": "code",
   "execution_count": 312,
   "metadata": {},
   "outputs": [
    {
     "name": "stdout",
     "output_type": "stream",
     "text": [
      "Введите команду: a\n",
      "Введите тип документа: first\n",
      "Введите номер документа: second\n",
      "Введите имя документа: third\n",
      "На какую полку записать : 2\n"
     ]
    }
   ],
   "source": [
    "command = input(\"Введите команду: \")\n",
    "\n",
    "\n",
    "# Функция удаления по номеру документа\n",
    "def d_funct():\n",
    "    name1 = input(\"Введите номер документа: \")\n",
    "    flag1 = False\n",
    "# Проходим цикл перебирая ключи и значения\n",
    "    for k, search in directories.items():\n",
    "# Находим документ в значениях\n",
    "        if name1 in search:\n",
    "            search.remove(name1)\n",
    "            print(\"Удален документ с полки \" + k + \": \" + name1)\n",
    "# Меняем значение флага, чтобы следующая првоерка была ложной\n",
    "            flag1 = True\n",
    "    if flag1!=True:\n",
    "        print(\"Документ не найден на полке\")                       \n",
    "    flag2 = False\n",
    "# Ищем значение и записываем индекс элемента в переменную\n",
    "    for item in documents:\n",
    "        ind = documents.index(item)\n",
    "# Если искомая переменная найдена, то удаляется элемент по записанному индексу\n",
    "        if item[\"number\"] == name1:\n",
    "            del documents[ind]\n",
    "            print(\"Удален документ из каталога: \" + name1)\n",
    "# Меняем значение флага, чтобы следующая првоерка была ложной\n",
    "            flag2 = True\n",
    "    if flag2!=True:\n",
    "        print(\"Документ не найден в каталоге\") \n",
    "\n",
    "        \n",
    "        \n",
    "# Функция перемещения по номеру документа        \n",
    "def m_funct():\n",
    "    name1 = input(\"Введите номер документа: \")\n",
    "    polka = input(\"В какую полку хотите переместить документ? Номер: \")\n",
    "# Добавляем переменную временного хранения значения для перемещения\n",
    "    storage = ''\n",
    "# Проходим цикл перебирая ключи и значения\n",
    "# После делаем проверку на соответствие существования искомых значений\n",
    "    for k, search in directories.items():\n",
    "        if name1 in search:\n",
    "            if polka in directories.keys():\n",
    "# Отправляем в переменную значение для перемещения\n",
    "                storage = name1\n",
    "# Удаляем найденное значение из его места\n",
    "                search.remove(name1)\n",
    "# Если значение найдено и было удалено, значит переменная временного хранения не пустая, можно добавлять ее в выбранную полку\n",
    "    if storage != '':\n",
    "        for k, search in directories.items():\n",
    "            if polka == k:\n",
    "                search.append(storage)\n",
    "    else:\n",
    "        print(\"Введен неверный номер документа или несуществующая полка.\")\n",
    "        \n",
    "        \n",
    "def a_funct():\n",
    "    type_doc = input(\"Введите тип документа: \")\n",
    "    number_doc = input(\"Введите номер документа: \")\n",
    "    name_doc = input(\"Введите имя документа: \")\n",
    "    polka_direc = input(\"На какую полку записать : \")\n",
    "    new_doc = {'type': type_doc, 'number': number_doc, 'name': name_doc}\n",
    "    flag1 = False\n",
    "    for k, search in directories.items():\n",
    "        if polka_direc == k:\n",
    "            search.append(number_doc)\n",
    "            flag1 = True\n",
    "    if flag1 != True:\n",
    "        print(\"Полки \" + polka_direc + \" не существует\")\n",
    "    if flag1 == True:\n",
    "        documents.append(new_doc)\n",
    "            \n",
    "if command == 'd':\n",
    "    d_funct()\n",
    "elif command == 'm':\n",
    "    m_funct()\n",
    "elif command == 'a':\n",
    "    a_funct()\n",
    "else:\n",
    "    print(\"Команда не найдена, введите d, m или a.\")\n"
   ]
  },
  {
   "cell_type": "code",
   "execution_count": 313,
   "metadata": {},
   "outputs": [
    {
     "data": {
      "text/plain": [
       "{'1': ['2207 876234', '11-2', '5455 028765', '97868'],\n",
       " '2': ['10006', '5400 028765', '5455 002299', '123', '123', 'second'],\n",
       " '3': ['test']}"
      ]
     },
     "execution_count": 313,
     "metadata": {},
     "output_type": "execute_result"
    }
   ],
   "source": [
    "directories"
   ]
  },
  {
   "cell_type": "code",
   "execution_count": 314,
   "metadata": {},
   "outputs": [
    {
     "data": {
      "text/plain": [
       "[{'type': 'passport', 'number': '2207 876234', 'name': 'Василий Гупкин'},\n",
       " {'type': 'invoice', 'number': '11-2', 'name': 'Геннадий Покемонов'},\n",
       " {'type': 'insurance', 'number': '10006', 'name': 'Аристарх Павлов'},\n",
       " {'z': 'ds'},\n",
       " {'type': 'first', 'number': 'second', 'name': 'third'}]"
      ]
     },
     "execution_count": 314,
     "metadata": {},
     "output_type": "execute_result"
    }
   ],
   "source": [
    "documents"
   ]
  }
 ],
 "metadata": {
  "kernelspec": {
   "display_name": "Python 3",
   "language": "python",
   "name": "python3"
  },
  "language_info": {
   "codemirror_mode": {
    "name": "ipython",
    "version": 3
   },
   "file_extension": ".py",
   "mimetype": "text/x-python",
   "name": "python",
   "nbconvert_exporter": "python",
   "pygments_lexer": "ipython3",
   "version": "3.7.1"
  }
 },
 "nbformat": 4,
 "nbformat_minor": 2
}
