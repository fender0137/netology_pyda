{
 "cells": [
  {
   "cell_type": "markdown",
   "metadata": {},
   "source": [
    "**Задание 1**\n",
    "Дана статистика рекламных каналов по объемам продаж. Напишите скрипт, который возвращает название канала с максимальным объемом.\n",
    "Т. е. в данном примере скрипт должен возвращать \"yandex\".\n",
    "stats = {\"facebook\": 55, \"yandex\": 120, \"vk\": 115, \"google\": 99, \"email\": 42, \"ok\": 98}\n"
   ]
  },
  {
   "cell_type": "code",
   "execution_count": 74,
   "metadata": {},
   "outputs": [],
   "source": [
    "stats = {\"facebook\": 55, \"yandex\": 120, \"vk\": 115, \"google\": 99, \"email\": 42, \"ok\": 98}"
   ]
  },
  {
   "cell_type": "code",
   "execution_count": 75,
   "metadata": {},
   "outputs": [
    {
     "data": {
      "text/plain": [
       "'yandex'"
      ]
     },
     "execution_count": 75,
     "metadata": {},
     "output_type": "execute_result"
    }
   ],
   "source": [
    "sorted(stats.items(), key = lambda x: -x[1])[0][0]"
   ]
  },
  {
   "cell_type": "markdown",
   "metadata": {},
   "source": [
    "**Задание 2**\n",
    "Дан список описаний товаров descriptions:\n",
    "descriptions = [\n",
    "    [\"браслет\", \"xiaomi\", \"mi\", \"band\", \"2.\", \"умный\", \"браслет\", \"xiaomi\", \"mi\", \"лидер\", \"в\", \"линейке\", \"xiaomi.\", \"фитнес\", \"браслет\", \"для\", \"android\", \"4.4,\", \"ios\", \"7,\", \"экран\", \"oled.\", \"лучший\", \"выбор\", \"xiaomi\"],\n",
    "    [\"браслет\", \"huawei\", \"honor\", \"band\", \"3.\", \"фитнес\", \"браслет\", \"влагозащищенный\", \"сенсорный\", \"экран\", \"android,\", \"ios\", \"мониторинг\", \"сна\"],\n",
    "    [\"браслет\", \"samsung\", \"gear\", \"fit2\", \"pro.\", \"влагозащищенный\", \"сенсорный\", \"amoled-экран\", \"мониторинг\", \"сна,\", \"калорий,\", \"новинка\", \"samsung\"],\n",
    "]\n",
    "\n",
    "Есть подозрение, что некоторые описания содержат много дубликатов одних и тех же слов. Т. е. могут быть переоптимизированными. Для каждого описания товара выведите на экран разницу между количеством уникальных слов и общим количеством слов в этом описании.\n"
   ]
  },
  {
   "cell_type": "code",
   "execution_count": 76,
   "metadata": {},
   "outputs": [],
   "source": [
    "descriptions = [\n",
    "    [\"браслет\", \"xiaomi\", \"mi\", \"band\", \"2.\", \"умный\", \"браслет\", \"xiaomi\", \"mi\", \"лидер\", \"в\", \"линейке\", \"xiaomi.\", \"фитнес\", \"браслет\", \"для\", \"android\", \"4.4,\", \"ios\", \"7,\", \"экран\", \"oled.\", \"лучший\", \"выбор\", \"xiaomi\"],\n",
    "    [\"браслет\", \"huawei\", \"honor\", \"band\", \"3.\", \"фитнес\", \"браслет\", \"влагозащищенный\", \"сенсорный\", \"экран\", \"android,\", \"ios\", \"мониторинг\", \"сна\"],\n",
    "    [\"браслет\", \"samsung\", \"gear\", \"fit2\", \"pro.\", \"влагозащищенный\", \"сенсорный\", \"amoled-экран\", \"мониторинг\", \"сна,\", \"калорий,\", \"новинка\", \"samsung\"],\n",
    "]"
   ]
  },
  {
   "cell_type": "code",
   "execution_count": 77,
   "metadata": {},
   "outputs": [
    {
     "name": "stdout",
     "output_type": "stream",
     "text": [
      "1 descriptions:-5\n",
      "2 descriptions:-1\n",
      "3 descriptions:-1\n"
     ]
    }
   ],
   "source": [
    "\n",
    "step = 0\n",
    "for x in descriptions:\n",
    "    step= step + 1\n",
    "    print(str(step) + ' descriptions:' + str(len(set(x))-len(x)))\n",
    "    \n",
    "\n",
    " "
   ]
  },
  {
   "cell_type": "markdown",
   "metadata": {},
   "source": [
    "**Задание 3**\n",
    "В примере поиска с помощью кортежей мы использовали 3 столбца. Напишите функцию, которая формирует словарь для поиска по n столбцам."
   ]
  },
  {
   "cell_type": "code",
   "execution_count": null,
   "metadata": {},
   "outputs": [],
   "source": []
  }
 ],
 "metadata": {
  "kernelspec": {
   "display_name": "Python 3",
   "language": "python",
   "name": "python3"
  },
  "language_info": {
   "codemirror_mode": {
    "name": "ipython",
    "version": 3
   },
   "file_extension": ".py",
   "mimetype": "text/x-python",
   "name": "python",
   "nbconvert_exporter": "python",
   "pygments_lexer": "ipython3",
   "version": "3.7.1"
  }
 },
 "nbformat": 4,
 "nbformat_minor": 2
}
