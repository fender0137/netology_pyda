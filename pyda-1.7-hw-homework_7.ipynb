{
 "cells": [
  {
   "cell_type": "markdown",
   "metadata": {},
   "source": [
    "*Задание 1*\n",
    "\n",
    "Напишите функцию date_range, которая возвращает список дней между датами start_date и end_date. Даты должны вводиться в формате YYYY-MM-DD."
   ]
  },
  {
   "cell_type": "code",
   "execution_count": 1,
   "metadata": {},
   "outputs": [
    {
     "name": "stdout",
     "output_type": "stream",
     "text": [
      "Введите дату начала (YYYY-MM-DD): 2018-03-04\n",
      "Введите дату конца (YYYY-MM-DD): 2018-04-03\n",
      "2018-03-04\n",
      "2018-03-05\n",
      "2018-03-06\n",
      "2018-03-07\n",
      "2018-03-08\n",
      "2018-03-09\n",
      "2018-03-10\n",
      "2018-03-11\n",
      "2018-03-12\n",
      "2018-03-13\n",
      "2018-03-14\n",
      "2018-03-15\n",
      "2018-03-16\n",
      "2018-03-17\n",
      "2018-03-18\n",
      "2018-03-19\n",
      "2018-03-20\n",
      "2018-03-21\n",
      "2018-03-22\n",
      "2018-03-23\n",
      "2018-03-24\n",
      "2018-03-25\n",
      "2018-03-26\n",
      "2018-03-27\n",
      "2018-03-28\n",
      "2018-03-29\n",
      "2018-03-30\n",
      "2018-03-31\n",
      "2018-04-01\n",
      "2018-04-02\n"
     ]
    }
   ],
   "source": [
    "from datetime import datetime\n",
    "from datetime import timedelta\n",
    "\n",
    "\n",
    "\n",
    "def funct():\n",
    "    date1 = input(\"Введите дату начала (YYYY-MM-DD): \")\n",
    "    date2 = input(\"Введите дату конца (YYYY-MM-DD): \")\n",
    "    start_date = datetime.strptime(date1, \"%Y-%m-%d\")\n",
    "    end_date = datetime.strptime(date2, \"%Y-%m-%d\")\n",
    "    for x in range(0, (end_date-start_date).days):\n",
    "        date_and_time = (start_date + timedelta(days=x))\n",
    "        only_date = date_and_time.strftime('%Y-%m-%d')\n",
    "        print(only_date)\n",
    "\n",
    "funct()   \n"
   ]
  },
  {
   "cell_type": "markdown",
   "metadata": {},
   "source": [
    "*Задание 2*\n",
    "\n",
    "Дополните функцию из первого задания проверкой на корректность дат. В случае неверного формата или если start_date > end_date должен возвращаться пустой список."
   ]
  },
  {
   "cell_type": "code",
   "execution_count": 14,
   "metadata": {},
   "outputs": [
    {
     "name": "stdout",
     "output_type": "stream",
     "text": [
      "Введите дату начала (YYYY-MM-DD): 2019-05-02\n",
      "Введите дату конца (YYYY-MM-DD): 2019-05-01\n",
      "[]\n"
     ]
    }
   ],
   "source": [
    "from datetime import datetime\n",
    "from datetime import timedelta\n",
    "\n",
    "\n",
    "        \n",
    "def funct():\n",
    "    try:\n",
    "        date1 = input(\"Введите дату начала (YYYY-MM-DD): \")\n",
    "        date2 = input(\"Введите дату конца (YYYY-MM-DD): \")\n",
    "        start_date = datetime.strptime(date1, \"%Y-%m-%d\")\n",
    "        end_date = datetime.strptime(date2, \"%Y-%m-%d\")\n",
    "        if start_date<=end_date:\n",
    "            for x in range(0, (end_date-start_date).days):\n",
    "                date_and_time = (start_date + timedelta(days=x))\n",
    "                only_date = date_and_time.strftime('%Y-%m-%d')\n",
    "                print(only_date)\n",
    "        elif start_date>end_date:\n",
    "            only_date = []\n",
    "            print(only_date)\n",
    "    except ValueError:\n",
    "            only_date = []\n",
    "            print(only_date)\n",
    "funct()   \n"
   ]
  },
  {
   "cell_type": "markdown",
   "metadata": {},
   "source": [
    "*Задание 3*\n",
    "\n",
    "Дан поток дат в формате YYYY-MM-DD, в которых встречаются некорректные значения:\n",
    "stream = [‘2018-04-02’, ‘2018-02-29’, ‘2018-19-02’]\n",
    "\n",
    "Напишите функцию, которая проверяет эти даты на корректность. Т. е. для каждой даты возвращает True (дата корректна) или False (некорректная дата)."
   ]
  },
  {
   "cell_type": "code",
   "execution_count": 23,
   "metadata": {},
   "outputs": [
    {
     "name": "stdout",
     "output_type": "stream",
     "text": [
      "2018-04-02\n",
      "Неверный формат даты 2018-02-29\n",
      "Неверный формат даты 2018-19-02\n"
     ]
    }
   ],
   "source": [
    "stream = ['2018-04-02', '2018-02-29', '2018-19-02']\n",
    "\n",
    "def date_correctness():\n",
    "    for i in stream:\n",
    "        try:\n",
    "            if datetime.strptime(i, '%Y-%m-%d'):\n",
    "                print(i)\n",
    "        except:\n",
    "            print(\"Неверный формат даты \" + i)\n",
    "            \n",
    "date_correctness()"
   ]
  },
  {
   "cell_type": "markdown",
   "metadata": {},
   "source": [
    "*Задание 4 (бонусное)*\n",
    "\n",
    "Ваш коллега прислал код функции:\n",
    "\n",
    "DEFAULT_USER_COUNT = 3\n",
    "\n",
    "def delete_and_return_last_user(region, default_list=[‘A100’, ‘A101’, ‘A102’]):\n",
    "\"\"“\n",
    "Удаляет из списка default_list последнего пользователя\n",
    "и возвращает ID нового последнего пользователя.\n",
    "”\"\"\n",
    "element_to_delete = default_list[-1]\n",
    "default_list.remove(element_to_delete)\n",
    "\n",
    "return default_list[DEFAULT_USER_COUNT-2]\n",
    "При однократном вызове этой функции все работает корректно:\n",
    "delete_and_return_last_user(1)\n",
    "‘A101’\n",
    "\n",
    "Однако, при повторном вызове получается ошибка IndexError: list index out of range.\n",
    "\n",
    "Задание:\n",
    "\n",
    "Что значит ошибка list index out of range?\n",
    "Почему при первом запуске функция работает корректно, а при втором - нет?"
   ]
  },
  {
   "cell_type": "code",
   "execution_count": 98,
   "metadata": {},
   "outputs": [
    {
     "data": {
      "text/plain": [
       "'A101'"
      ]
     },
     "execution_count": 98,
     "metadata": {},
     "output_type": "execute_result"
    }
   ],
   "source": [
    "DEFAULT_USER_COUNT = 3\n",
    "\n",
    "def delete_and_return_last_user(region, default_list=['A100', 'A101', 'A102']): \n",
    "    \"\"\"\" Удаляет из списка default_list \n",
    "    последнего пользователя и возвращает ID \n",
    "    нового последнего пользователя. \n",
    "    \"\"\" \n",
    "    element_to_delete = default_list[-1] \n",
    "    default_list.remove(element_to_delete)\n",
    "    return default_list[DEFAULT_USER_COUNT-2] \n",
    "delete_and_return_last_user(1)\n"
   ]
  },
  {
   "cell_type": "code",
   "execution_count": 99,
   "metadata": {},
   "outputs": [
    {
     "data": {
      "text/plain": [
       "'A100'"
      ]
     },
     "execution_count": 99,
     "metadata": {},
     "output_type": "execute_result"
    }
   ],
   "source": [
    "DEFAULT_USER_COUNT = 2\n",
    "delete_and_return_last_user(1)"
   ]
  },
  {
   "cell_type": "markdown",
   "metadata": {},
   "source": [
    "Это значит что индекс к которому мы обращаемся не входит в диапазон.\n",
    "\n",
    "При повторном обращении к списку мы обращаемся к уже уменьшенному списку, который состоит из двух элементов.\n",
    "\n",
    "Если изменить DEFAULT_USER_COUNT то ошибки не будет."
   ]
  }
 ],
 "metadata": {
  "kernelspec": {
   "display_name": "Python 3",
   "language": "python",
   "name": "python3"
  },
  "language_info": {
   "codemirror_mode": {
    "name": "ipython",
    "version": 3
   },
   "file_extension": ".py",
   "mimetype": "text/x-python",
   "name": "python",
   "nbconvert_exporter": "python",
   "pygments_lexer": "ipython3",
   "version": "3.7.4"
  }
 },
 "nbformat": 4,
 "nbformat_minor": 2
}
