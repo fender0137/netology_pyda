{
 "cells": [
  {
   "cell_type": "markdown",
   "metadata": {},
   "source": [
    "**Задание 1**. Даны 2 строки: *long_phrase* и *short_phrase*. \n",
    "Напишите код, который проверяет действительно ли длинная фраза *long_phrase* длиннее короткой *short_phrase*. И выводит *True* или *False* в зависимости от результата сравнения."
   ]
  },
  {
   "cell_type": "code",
   "execution_count": 2,
   "metadata": {},
   "outputs": [],
   "source": [
    "long_phrase = 'Насколько проще было бы писать программы, если бы не заказчики'\n",
    "short_phrase = '640Кб должно хватить для любых задач. Билл Гейтс (по легенде)'"
   ]
  },
  {
   "cell_type": "code",
   "execution_count": 3,
   "metadata": {},
   "outputs": [
    {
     "data": {
      "text/plain": [
       "True"
      ]
     },
     "execution_count": 3,
     "metadata": {},
     "output_type": "execute_result"
    }
   ],
   "source": [
    "# Задание 1\n",
    "\n",
    "long_phrase = 'Насколько проще было бы писать программы, если бы не заказчики'\n",
    "short_phrase = '640Кб должно хватить для любых задач. Билл Гейтс (по легенде)'\n",
    "\n",
    "\n",
    "len(long_phrase)>len(short_phrase)"
   ]
  },
  {
   "cell_type": "markdown",
   "metadata": {},
   "source": [
    "**Задание 2**. Дано значение объема файла в байтах. Напишите перевод этого значения в мегабайты в формате: \"*Объем файла равен 213.68Mb*\""
   ]
  },
  {
   "cell_type": "code",
   "execution_count": 5,
   "metadata": {},
   "outputs": [
    {
     "name": "stdout",
     "output_type": "stream",
     "text": [
      "Сколько байт: 352473814\n",
      "Объем файла равен 352.47Mb\n"
     ]
    }
   ],
   "source": [
    "# Задание 2\n",
    "\n",
    "byte = int(input(\"Сколько байт: \"))\n",
    "\n",
    "\n",
    "print(\"Объем файла равен \"+str(round(byte/1000000,2))+\"Mb\")"
   ]
  },
  {
   "cell_type": "markdown",
   "metadata": {},
   "source": [
    "**Задание 3**. Разработать приложение для определения знака зодиака по дате рождения. Пример:\n",
    "\n",
    "Введите месяц: март\n",
    "\n",
    "Введите число: 6\n",
    "\n",
    "Вывод:\n",
    "Рыбы"
   ]
  },
  {
   "cell_type": "code",
   "execution_count": 10,
   "metadata": {},
   "outputs": [
    {
     "name": "stdout",
     "output_type": "stream",
     "text": [
      "Введите месяц рождения: Декабрь\n",
      "Введите день рождения: 30\n",
      "Вывод: Козерог\n"
     ]
    }
   ],
   "source": [
    "# Задание 3\n",
    "\n",
    "month = input(\"Введите месяц рождения: \").lower()\n",
    "day = int(input(\"Введите день рождения: \"))\n",
    "\n",
    "\n",
    "\n",
    "\n",
    "if ((month == 'март' or month == '3') and day >= 21) or ((month == 'апрель' or month == '4') and day <=20):\n",
    "    print(\"Вывод: Овен\")\n",
    "elif ((month == 'апрель' or month == '4') and day >= 21) or ((month == 'май' or month == '5') and day <=20):\n",
    "    print(\"Вывод: Телец\") \n",
    "elif ((month == 'май' or month == '5') and day >= 21) or ((month == 'июнь' or month == '6') and day <=21):\n",
    "    print(\"Вывод: Близнецы\")\n",
    "elif ((month == 'июнь' or month == '6') and day >= 22) or ((month == 'июль' or month == '7') and day <=22):\n",
    "    print(\"Вывод: Рак\") \n",
    "elif ((month == 'июль' or month == '7') and day >= 23) or ((month == 'август' or month == '8') and day <=23):\n",
    "    print(\"Вывод: Лев\")\n",
    "elif ((month == 'август' or month == '8') and day >= 24) or ((month == 'сентябрь' or month == '9') and day <=23):\n",
    "    print(\"Вывод: Дева\") \n",
    "elif ((month == 'сентябрь' or month == '9') and day >= 24) or ((month == 'октябрь' or month == '10') and day <=23):\n",
    "    print(\"Вывод: Весы\")\n",
    "elif ((month == 'октябрь' or month == '10') and day >= 24) or ((month == 'ноябрь' or month == '11') and day <=22):\n",
    "    print(\"Вывод: Скорпион\")\n",
    "elif ((month == 'ноябрь' or month == '11') and day >= 23) or ((month == 'декабрь' or month == '12') and day <=21):\n",
    "    print(\"Вывод: Стрелец\")\n",
    "elif ((month == 'декабрь' or month == '12') and day >= 22) or ((month == 'январь' or month == '1') and day <=20):\n",
    "    print(\"Вывод: Козерог\")\n",
    "elif ((month == 'январь' or month == '1') and day >= 21) or ((month == 'февраль' or month == '2') and day <=20):\n",
    "    print(\"Вывод: Водолей\")\n",
    "elif ((month == 'февраль' or month == '2') and day >= 21) or ((month == 'март' or month == '3') and day <=20):\n",
    "    print(\"Вывод: Рыбы\")\n",
    "else:\n",
    "    print(\"Некорректно введенные данные\")"
   ]
  },
  {
   "cell_type": "markdown",
   "metadata": {},
   "source": [
    "**Задание 4**. Нужно разработать приложение для финансового планирования.\n",
    "Приложение учитывает сколько уходит на ипотеку, \"на жизнь\" и сколько нужно отложить на пенсию.\n",
    "Пользователь вводит:\n",
    "- заработанную плату в месяц.\n",
    "- сколько процентов от ЗП уходит на ипотеку.\n",
    "- сколько процентов от ЗП уходит \"на жизнь\".\n",
    "- сколько раз приходит премия в год.\n",
    "\n",
    "Остальная часть заработанной платы откладывается на пенсию.\n",
    "\n",
    "Также пользователю приходит премия в размере зарплаты, от которой половина уходит на отпуск, а вторая половина откладывается.\n",
    "\n",
    "Программа должна учитывать сколько премий было в год.\n",
    "\n",
    "Нужно вывести сколько денег тратит пользователь на ипотеку и сколько он накопит за год.\n",
    "\n",
    "Пример:\n",
    "\n",
    "Введите заработанную плату в месяц: 100000\n",
    "\n",
    "Введите сколько процентов уходит на ипотеку: 30\n",
    "\n",
    "Введите сколько процентов уходит на жизнь: 50\n",
    "\n",
    "Введите количество премий за год: 2\n",
    "\n",
    "Вывод:\n",
    "На ипотеку было потрачено: 360000 рублей\n",
    "Было накоплено: 340000 рублей"
   ]
  },
  {
   "cell_type": "code",
   "execution_count": 7,
   "metadata": {},
   "outputs": [
    {
     "name": "stdout",
     "output_type": "stream",
     "text": [
      "Введите заработную плату в месяц: 230000\n",
      "Введите сколько процентов уходит на ипотеку: 40\n",
      "Введите сколько процентов уходит на жизнь: 55\n",
      "Введите количество премий за год: 3\n",
      "На ипотеку было потрачено: 1104000 рублей\n",
      "Было накоплено: 483000 рублей\n"
     ]
    }
   ],
   "source": [
    "# Задание 4\n",
    "\n",
    "zp_month = int(input(\"Введите заработную плату в месяц: \"))\n",
    "percent_ipoteka = int(input(\"Введите сколько процентов уходит на ипотеку: \"))\n",
    "percent_to_live = int(input(\"Введите сколько процентов уходит на жизнь: \"))\n",
    "count_premia = int(input(\"Введите количество премий за год: \"))\n",
    "\n",
    "# Расчитываем остаток премии за год\n",
    "premia = (count_premia*zp_month)/2\n",
    "\n",
    "# Сколько стратит на ипотеку\n",
    "print(\"На ипотеку было потрачено: \" + str(int((zp_month - (zp_month -(zp_month/100*percent_ipoteka)))*12)) + \" рублей\")\n",
    "# Сколько накоплено\n",
    "print(\"Было накоплено: \" + str(int((zp_month -(zp_month/100*(percent_ipoteka+percent_to_live)))*12+premia)) + \" рублей\")\n"
   ]
  },
  {
   "cell_type": "markdown",
   "metadata": {},
   "source": [
    "**Дополнительные задания**"
   ]
  },
  {
   "cell_type": "markdown",
   "metadata": {},
   "source": [
    "**Задание 1**\n",
    "https://ru.wikipedia.org/wiki/Fizz_buzz\n",
    "Начинающий произносит число “1”, и каждый следующий игрок прибавляет к предыдущему значению единицу. Когда число делится на три оно заменяется на fizz, если число делится на пять, то произносится buzz. Числа, делящиеся на три и пять одновременно заменяются на fizz buzz. Сделавший ошибку игрок исключается из игры.\n",
    "\n",
    "Типичная партия в fizz buzz выглядит так:\n",
    "1, 2, Fizz, 4, Buzz, Fizz, 7, 8, Fizz, Buzz, 11, Fizz, 13, 14, Fizz Buzz, 16, 17, Fizz, 19, Buzz, Fizz, 22, 23, Fizz, Buzz, 26, Fizz, 28, 29, Fizz Buzz, 31, 32, Fizz, 34, Buzz, Fizz, …\n",
    "\n",
    "Напишите код, выводящий на экран первые n элементов этой игры (естественно, корректные)."
   ]
  },
  {
   "cell_type": "code",
   "execution_count": 11,
   "metadata": {},
   "outputs": [
    {
     "name": "stdout",
     "output_type": "stream",
     "text": [
      "Количество шагов: 30\n",
      "1\n",
      "2\n",
      "fizz\n",
      "4\n",
      "Buzz\n",
      "fizz\n",
      "7\n",
      "8\n",
      "fizz\n",
      "Buzz\n",
      "11\n",
      "fizz\n",
      "13\n",
      "14\n",
      "fizz buzz\n",
      "16\n",
      "17\n",
      "fizz\n",
      "19\n",
      "Buzz\n",
      "fizz\n",
      "22\n",
      "23\n",
      "fizz\n",
      "Buzz\n",
      "26\n",
      "fizz\n",
      "28\n",
      "29\n",
      "fizz buzz\n"
     ]
    }
   ],
   "source": [
    "#Задание 1\n",
    "\n",
    "steps = int(input(\"Количество шагов: \"))\n",
    "\n",
    "for number in range(1, steps+1):\n",
    "    if number % 3 ==0 and number % 5 ==0:\n",
    "        print('fizz buzz')\n",
    "    elif number % 3 == 0:\n",
    "        print('fizz')\n",
    "    elif number % 5 == 0:\n",
    "        print('Buzz')\n",
    "   \n",
    "    else:\n",
    "        print(number)"
   ]
  },
  {
   "cell_type": "markdown",
   "metadata": {},
   "source": [
    "**Задание 2**\n",
    "Датчик принимает сигнал, состоящий из 0 и 1. Известно, что сигнал имеет периодичность, не превышающей натурального числа n. Напишите код, который вычисляет периодичность сигнала. Считайте, что 3 < n < 1000, а общая длина сигнала значительно превышает n.\n",
    "\n",
    "Пример сигнала с периодичностью 4 (повторяющийся элемент 1011):\n",
    "1011101110111011101110111011101110111011\n",
    "\n",
    "Еще одна интерпретация задачи, но без кода: https://tproger.ru/problems/endless-train/"
   ]
  },
  {
   "cell_type": "code",
   "execution_count": 12,
   "metadata": {},
   "outputs": [],
   "source": [
    "# Не получилось"
   ]
  },
  {
   "cell_type": "markdown",
   "metadata": {},
   "source": [
    "**Задание 3**\n",
    "Дано слово из латинских букв. Напишите скрипт, который выводит на экран букву из середины слова (если число букв нечетное). Если букв четное число, то на экран выводятся две буквы из середины.\n",
    "\n",
    "Для ‘test’ - 'es’\n",
    "Для ‘testing’ - ‘t’"
   ]
  },
  {
   "cell_type": "code",
   "execution_count": 15,
   "metadata": {},
   "outputs": [
    {
     "name": "stdout",
     "output_type": "stream",
     "text": [
      "Input word: python\n",
      "th\n"
     ]
    }
   ],
   "source": [
    "# Задание 3\n",
    "\n",
    "word = str(input(\"Input word: \"))\n",
    "\n",
    "\n",
    "if len(word) % 2 != 0:\n",
    "    \n",
    "    print(word[int(len(word)/2)])\n",
    "else:\n",
    "    print(word[int(len(word)/2)-1]+word[int(len(word)/2)])"
   ]
  }
 ],
 "metadata": {
  "kernelspec": {
   "display_name": "Python 3",
   "language": "python",
   "name": "python3"
  },
  "language_info": {
   "codemirror_mode": {
    "name": "ipython",
    "version": 3
   },
   "file_extension": ".py",
   "mimetype": "text/x-python",
   "name": "python",
   "nbconvert_exporter": "python",
   "pygments_lexer": "ipython3",
   "version": "3.7.1"
  }
 },
 "nbformat": 4,
 "nbformat_minor": 2
}
